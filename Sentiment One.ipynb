{
 "cells": [
  {
   "cell_type": "code",
   "execution_count": null,
   "metadata": {},
   "outputs": [],
   "source": [
    "# libraries\n",
    "import tweepy\n",
    "from textblob import TextBlob"
   ]
  },
  {
   "cell_type": "code",
   "execution_count": 31,
   "metadata": {
    "collapsed": true
   },
   "outputs": [
    {
     "name": "stdout",
     "output_type": "stream",
     "text": [
      "Can you spot the sharks? https://t.co/1bz5znYBCi\n",
      "Army chief visits forward locations in Jammu https://t.co/l7e6sMH7jg https://t.co/S70w2OsQrJ\n",
      "The Sangam, confluence of the Ganga, Yamuna and the mythical Saraswati, is all set to witness the last dip of the K… https://t.co/ERUpBQM7MF\n",
      "Forces dragged in politics, Cong neta 'snatches' credit. Rahul mentor doubts valour. BJP ally won't honour Martyr.… https://t.co/eWn43f1kyY\n",
      "Our priority is country, not elections, says @AmitShah https://t.co/JbP5NjBVNZ https://t.co/nTFHugL3mZ\n",
      "RT @toisports: #JUSTIN #SAvSL \n",
      "\n",
      "1st ODI: @faf1307 112* helps @OfficialCSA (232/2 in 38.5) beat @OfficialSLC (231) by 8 wickets\n",
      "\n",
      "https://t.c…\n",
      "Here's the Top News right now, from around the world. For detailed coverage and expert analysis of news that matter… https://t.co/kvJ5w1RC9z\n",
      "RT @htshowbiz: #EmraanHashmi finds it difficult to be a smart actor in Bollywood, says ‘Stupidity goes a long way here’\n",
      "\n",
      "https://t.co/Abu71…\n",
      "If there is no tax exemption, @BCCI will have to carry burden for global events \n",
      "\n",
      "DETAILS: https://t.co/QtvtZN2bmI https://t.co/7ndXfKWmGd\n",
      "Wing Commander Abhinandan Varthaman went through a series of debriefings by security agencies in New Delhi even as… https://t.co/zChZE9D69a\n",
      "IAF pilot #AbhinandanVarthaman wants to return to cockpit at the earliest https://t.co/wSjtu22atw https://t.co/GJQs2BXFJ8\n",
      "RT @OnLeaks: So... To celebrate my fourth Twitter Anniversary as @OnLeaks and start 2019 leaks season, here comes a lil gift as your very f…\n",
      "Forces dragged in politics, Cong neta 'snatches' credit. Rahul mentor doubts valour. BJP ally won't honour Martyr.… https://t.co/JpnThN0noH\n",
      "Intelligence agencies trying to ascertain reports of #MasoodAzhar’s death: Officials https://t.co/MSR4DGpAYu https://t.co/7u1IodRDig\n",
      "RT @htshowbiz: Pankaj Tripathi says more trust from audience means more responsibility on the actor\n",
      "https://t.co/pTjsPZ7BkT\n",
      "Intel agencies trying to ascertain reports on #MasoodAzhar's death: Officials https://t.co/UkyLiHYLeK https://t.co/YIgjhFCCij\n",
      "RT @AnuPaulPhilip1: Science can put a man on the moon. But only God can create a real strawberry. #natural #strawberries https://t.co/9BGjd…\n",
      "RT @CluelessYogi: @virsanghvi  @CNNnews18 \n",
      " No noise, Sensible analysis, only Facts and Perspectives. An amazing show and good insights on…\n",
      "Report: The search and rescue operation to find out four Army personnel, who were hit by an avalanche on February 2… https://t.co/MaPrB04yO8\n",
      "On Rahul Gandhi’s turf, PM @narendramodi’s jibe with ‘Made-in-Amethi AK-203’\n",
      " https://t.co/vc0QmbqzPr https://t.co/xyr5al5dlh\n"
     ]
    }
   ],
   "source": [
    "consumer_key = \"iqor2ni478MD0Ata0e8QjPaHw\"\n",
    "consumer_secret = \"JOYSFgbVbblUk3sksgQrdQg2Qxqa636mCEp63bM2cnbzmypSZU\"\n",
    "access_token = \"2908245252-VByUAQba8B9Z5x24aLlZB3Wv1FHQsEtXiGrUtOc\"\n",
    "access_token_secret   = \"odvzxR949GLXFQLf9df7Yk8n3GTiBl5dSD5I0S5VJMG4x\"\n",
    "\n",
    "\n",
    "auth = tweepy.OAuthHandler(consumer_key, consumer_secret)\n",
    "auth.set_access_token(access_token, access_token_secret)\n",
    "\n",
    "api = tweepy.API(auth)\n",
    "\n",
    "public_tweets = api.home_timeline()\n",
    "for tweet in public_tweets:\n",
    "    print (tweet.text)"
   ]
  },
  {
   "cell_type": "code",
   "execution_count": 52,
   "metadata": {},
   "outputs": [],
   "source": [
    "def clean_tweet(tweet):\n",
    "    '''\n",
    "        Utility function to clean tweet text by removing links, special characters\n",
    "        using simple regex statements.\n",
    "    '''\n",
    "    return ' '.join(re.sub(\"(@[A-Za-z0-9]+)|([^0-9A-Za-z \\t])|(\\w+:\\/\\/\\S+)\", \" \", tweet.text).split())"
   ]
  },
  {
   "cell_type": "code",
   "execution_count": 65,
   "metadata": {},
   "outputs": [],
   "source": [
    "cleaned_tweets = []\n",
    "# for tweet in public_tweets:\n",
    "#     cleaned_tweets.append(clean_tweet(tweet))"
   ]
  },
  {
   "cell_type": "code",
   "execution_count": 60,
   "metadata": {},
   "outputs": [],
   "source": [
    " def get_tweet_sentiment(tweet):\n",
    "        '''\n",
    "        Utility function to classify sentiment of passed tweet\n",
    "        using textblob's sentiment method\n",
    "        '''\n",
    "        # create TextBlob object of passed tweet text\n",
    "        analysis = TextBlob(clean_tweet(tweet))\n",
    "        # set sentiment\n",
    "        if analysis.sentiment.polarity > 0:\n",
    "            return 'positive'\n",
    "        elif analysis.sentiment.polarity == 0:\n",
    "            return 'neutral'\n",
    "        else:\n",
    "            return 'negative'"
   ]
  },
  {
   "cell_type": "code",
   "execution_count": 61,
   "metadata": {},
   "outputs": [
    {
     "data": {
      "text/plain": [
       "'positive'"
      ]
     },
     "execution_count": 61,
     "metadata": {},
     "output_type": "execute_result"
    }
   ],
   "source": [
    "get_tweet_sentiment(tweet)"
   ]
  },
  {
   "cell_type": "code",
   "execution_count": 77,
   "metadata": {},
   "outputs": [],
   "source": [
    "query = 'Galaxy Fold'\n",
    "count = '10'\n",
    "fetched_tweets = api.search(q = query, count = count)"
   ]
  },
  {
   "cell_type": "code",
   "execution_count": 78,
   "metadata": {},
   "outputs": [
    {
     "name": "stdout",
     "output_type": "stream",
     "text": [
      "Galaxy Fold and Mate X: How foldable phones eclipsed 5G at MWC https://t.co/6q4ofwDfag via @CNET\n",
      "---\n",
      "RT @Fredzone: Le Galaxy Fold du futur imaginé par Benjamin Geskin https://t.co/ys6L6uwEXY https://t.co/pwHAPidUgc\n",
      "---\n",
      "...\n",
      "نموذج غطاء حماية Samsung Galaxy Fold. https://t.co/qLa94wb5ix\n",
      "---\n",
      "The Galaxy Fold isn’t the only crazy phone Samsung has released — here are some of its wildest devices from over th… https://t.co/PPkp5dNfmj\n",
      "---\n",
      "RT @MKBHD: Just when you thought smartphones were getting \"stale\" ... coming up this year:\n",
      "\n",
      "Galaxy Note 10\n",
      "iPhone 11\n",
      "Mate 30 Pro\n",
      "Pocophone…\n",
      "---\n",
      "RT @_20l9_: Novo celular da Samsung que dobra no meio\n",
      "Galaxy Fold #SamsungEvent https://t.co/8oYmLOVecl\n",
      "---\n",
      "RT @MKBHD: Just when you thought smartphones were getting \"stale\" ... coming up this year:\n",
      "\n",
      "Galaxy Note 10\n",
      "iPhone 11\n",
      "Mate 30 Pro\n",
      "Pocophone…\n",
      "---\n",
      "RT @MKBHD: Just when you thought smartphones were getting \"stale\" ... coming up this year:\n",
      "\n",
      "Galaxy Note 10\n",
      "iPhone 11\n",
      "Mate 30 Pro\n",
      "Pocophone…\n",
      "---\n",
      "Huawei: Chúng tôi đã tạo ra một chiếc smartphone như Galaxy Fold và nó quá tệ https://t.co/cpUX1ws0Fc https://t.co/YmZ446L041\n",
      "---\n",
      "RT @MKBHD: Just when you thought smartphones were getting \"stale\" ... coming up this year:\n",
      "\n",
      "Galaxy Note 10\n",
      "iPhone 11\n",
      "Mate 30 Pro\n",
      "Pocophone…\n",
      "---\n"
     ]
    }
   ],
   "source": [
    "for i in fetched_tweets:\n",
    "    print(i.text)\n",
    "    print(\"---\")\n",
    "    cleaned_tweets.append(clean_tweet(i))"
   ]
  },
  {
   "cell_type": "code",
   "execution_count": 79,
   "metadata": {},
   "outputs": [
    {
     "name": "stdout",
     "output_type": "stream",
     "text": [
      "neutral\n",
      "neutral\n",
      "neutral\n",
      "negative\n",
      "negative\n",
      "neutral\n",
      "negative\n",
      "negative\n",
      "neutral\n",
      "negative\n"
     ]
    }
   ],
   "source": [
    "for i in fetched_tweets:\n",
    "#     print(i.text)\n",
    "    print(get_tweet_sentiment(i))"
   ]
  },
  {
   "cell_type": "code",
   "execution_count": null,
   "metadata": {},
   "outputs": [],
   "source": []
  }
 ],
 "metadata": {
  "kernelspec": {
   "display_name": "Python 3",
   "language": "python",
   "name": "python3"
  },
  "language_info": {
   "codemirror_mode": {
    "name": "ipython",
    "version": 3
   },
   "file_extension": ".py",
   "mimetype": "text/x-python",
   "name": "python",
   "nbconvert_exporter": "python",
   "pygments_lexer": "ipython3",
   "version": "3.7.2"
  }
 },
 "nbformat": 4,
 "nbformat_minor": 2
}
